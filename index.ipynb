{
 "cells": [
  {
   "cell_type": "markdown",
   "id": "c4ce0882",
   "metadata": {},
   "source": [
    "# Analyzing LinkedIn's Data Analyst Job Market in the US"
   ]
  },
  {
   "cell_type": "markdown",
   "id": "a7dd1423",
   "metadata": {},
   "source": [
    "## Introduction"
   ]
  },
  {
   "cell_type": "markdown",
   "id": "ccf2073d",
   "metadata": {},
   "source": [
    "In this data analysis project, our focus is on cleaning the dataset before exporting it to Tableau for dashboard creation. The dataset we are working with consists of data analyst job postings on LinkedIn during a specific period in 2022, obtained through web scraping techniques from Kaggle.\n",
    "\n",
    "Data cleaning plays a critical role in ensuring the accuracy and reliability of the dataset. It involves identifying and addressing inconsistencies, errors, and missing values to improve data quality. By performing data cleaning, we can enhance the dataset's suitability for analysis and visualization purposes.\n",
    "\n",
    "Throughout this project, we will apply various data cleaning techniques to preprocess the dataset. These techniques include handling missing values, standardizing data formats, removing duplicates, and transforming variables. By performing these cleaning steps, we aim to create a clean and reliable dataset that can serve as a solid foundation for subsequent data analysis.\n",
    "\n",
    "Our ultimate goal is to create a compelling and informative dashboard using Tableau. The dashboard will allow us to visualize and explore the data analyst job postings, uncovering trends, patterns, and insights within the industry. By leveraging the power of Tableau's visualization capabilities, we can present the data in an interactive and meaningful way, facilitating a deeper understanding of the job market dynamics.\n",
    "\n",
    "Through this project, we aim to gain valuable insights into the data analyst job market and contribute to informed decision-making processes. Let's proceed with the data cleaning process to pave the way for insightful analysis and dashboard creation."
   ]
  },
  {
   "cell_type": "markdown",
   "id": "f2cc71c5",
   "metadata": {},
   "source": [
    "## Data Cleaning"
   ]
  },
  {
   "cell_type": "code",
   "execution_count": 1,
   "id": "d172f608",
   "metadata": {},
   "outputs": [],
   "source": [
    "import pandas as pd \n",
    "import openpyxl"
   ]
  },
  {
   "cell_type": "code",
   "execution_count": 51,
   "id": "400d721c",
   "metadata": {},
   "outputs": [],
   "source": [
    "wb = openpyxl.load_workbook('data.xlsx')\n",
    "feuille = wb['linkedin-jobs-usa']"
   ]
  },
  {
   "cell_type": "code",
   "execution_count": 52,
   "id": "b132adf2",
   "metadata": {},
   "outputs": [],
   "source": [
    "noms_colonnes = [cellule.value for cellule in feuille[1]]"
   ]
  },
  {
   "cell_type": "code",
   "execution_count": 53,
   "id": "c6a25409",
   "metadata": {},
   "outputs": [],
   "source": [
    "data = pd.DataFrame(feuille.values, columns=noms_colonnes)\n",
    "\n",
    "data = data.drop('link', axis=1)\n"
   ]
  },
  {
   "cell_type": "code",
   "execution_count": 54,
   "id": "1c1b4a4f",
   "metadata": {},
   "outputs": [],
   "source": [
    "data = data.drop(0)\n",
    "data =  data.rename(columns  = {'onsite_remote':'mode'})"
   ]
  },
  {
   "cell_type": "code",
   "execution_count": 6,
   "id": "088847f8",
   "metadata": {
    "scrolled": false
   },
   "outputs": [
    {
     "data": {
      "text/html": [
       "<div>\n",
       "<style scoped>\n",
       "    .dataframe tbody tr th:only-of-type {\n",
       "        vertical-align: middle;\n",
       "    }\n",
       "\n",
       "    .dataframe tbody tr th {\n",
       "        vertical-align: top;\n",
       "    }\n",
       "\n",
       "    .dataframe thead th {\n",
       "        text-align: right;\n",
       "    }\n",
       "</style>\n",
       "<table border=\"1\" class=\"dataframe\">\n",
       "  <thead>\n",
       "    <tr style=\"text-align: right;\">\n",
       "      <th></th>\n",
       "      <th>title</th>\n",
       "      <th>company</th>\n",
       "      <th>description</th>\n",
       "      <th>mode</th>\n",
       "      <th>salary</th>\n",
       "      <th>location</th>\n",
       "      <th>criteria</th>\n",
       "      <th>posted_date</th>\n",
       "    </tr>\n",
       "  </thead>\n",
       "  <tbody>\n",
       "    <tr>\n",
       "      <th>1</th>\n",
       "      <td>Data Analyst - Recent Graduate</td>\n",
       "      <td>PayPal</td>\n",
       "      <td>At PayPal (NASDAQ: PYPL), we believe that ever...</td>\n",
       "      <td>onsite</td>\n",
       "      <td>NaN</td>\n",
       "      <td>Buffalo-Niagara Falls Area</td>\n",
       "      <td>[{'Seniority level': 'Not Applicable'}, {'Empl...</td>\n",
       "      <td>2022-11-22 00:00:00</td>\n",
       "    </tr>\n",
       "    <tr>\n",
       "      <th>2</th>\n",
       "      <td>Data Analyst - Recent Graduate</td>\n",
       "      <td>PayPal</td>\n",
       "      <td>At PayPal (NASDAQ: PYPL), we believe that ever...</td>\n",
       "      <td>onsite</td>\n",
       "      <td>NaN</td>\n",
       "      <td>San Jose, CA</td>\n",
       "      <td>[{'Seniority level': 'Not Applicable'}, {'Empl...</td>\n",
       "      <td>2022-11-22 00:00:00</td>\n",
       "    </tr>\n",
       "    <tr>\n",
       "      <th>3</th>\n",
       "      <td>Data Analyst</td>\n",
       "      <td>PayPal</td>\n",
       "      <td>At PayPal (NASDAQ: PYPL), we believe that ever...</td>\n",
       "      <td>onsite</td>\n",
       "      <td>NaN</td>\n",
       "      <td>Texas, United States</td>\n",
       "      <td>[{'Seniority level': 'Not Applicable'}, {'Empl...</td>\n",
       "      <td>2022-11-17 00:00:00</td>\n",
       "    </tr>\n",
       "    <tr>\n",
       "      <th>4</th>\n",
       "      <td>Data Analyst</td>\n",
       "      <td>PayPal</td>\n",
       "      <td>At PayPal (NASDAQ: PYPL), we believe that ever...</td>\n",
       "      <td>onsite</td>\n",
       "      <td>NaN</td>\n",
       "      <td>Illinois, United States</td>\n",
       "      <td>[{'Seniority level': 'Not Applicable'}, {'Empl...</td>\n",
       "      <td>2022-11-17 00:00:00</td>\n",
       "    </tr>\n",
       "    <tr>\n",
       "      <th>5</th>\n",
       "      <td>Entry-Level Data Analyst</td>\n",
       "      <td>The Federal Savings Bank</td>\n",
       "      <td>The Federal Savings Bank, a national bank and ...</td>\n",
       "      <td>onsite</td>\n",
       "      <td>NaN</td>\n",
       "      <td>Chicago, IL</td>\n",
       "      <td>[{'Seniority level': 'Entry level'}, {'Employm...</td>\n",
       "      <td>2022-11-17 00:00:00</td>\n",
       "    </tr>\n",
       "    <tr>\n",
       "      <th>...</th>\n",
       "      <td>...</td>\n",
       "      <td>...</td>\n",
       "      <td>...</td>\n",
       "      <td>...</td>\n",
       "      <td>...</td>\n",
       "      <td>...</td>\n",
       "      <td>...</td>\n",
       "      <td>...</td>\n",
       "    </tr>\n",
       "    <tr>\n",
       "      <th>2841</th>\n",
       "      <td>Junior Data Analyst</td>\n",
       "      <td>Iris Software Inc.</td>\n",
       "      <td>Iris's client, one of the world's largest fina...</td>\n",
       "      <td>hybrid</td>\n",
       "      <td>NaN</td>\n",
       "      <td>Texas, United States</td>\n",
       "      <td>[{'Seniority level': 'Mid-Senior level'}, {'Em...</td>\n",
       "      <td>2022-10-21 00:00:00</td>\n",
       "    </tr>\n",
       "    <tr>\n",
       "      <th>2842</th>\n",
       "      <td>Data Analyst (SQL)</td>\n",
       "      <td>Marwood Group</td>\n",
       "      <td>The Marwood Group (Marwood) is a leading healt...</td>\n",
       "      <td>hybrid</td>\n",
       "      <td>$75,000.00_x000D_\\n            -_x000D_\\n     ...</td>\n",
       "      <td>New York City Metropolitan Area</td>\n",
       "      <td>[{'Seniority level': 'Mid-Senior level'}, {'Em...</td>\n",
       "      <td>2022-10-26 00:00:00</td>\n",
       "    </tr>\n",
       "    <tr>\n",
       "      <th>2843</th>\n",
       "      <td>Data Analyst</td>\n",
       "      <td>SmartSense by Digi</td>\n",
       "      <td>Join a high-performing, tight-knit team at a f...</td>\n",
       "      <td>hybrid</td>\n",
       "      <td>NaN</td>\n",
       "      <td>Mishawaka, IN</td>\n",
       "      <td>[{'Seniority level': 'Associate'}, {'Employmen...</td>\n",
       "      <td>2022-11-17 00:00:00</td>\n",
       "    </tr>\n",
       "    <tr>\n",
       "      <th>2844</th>\n",
       "      <td>Data Analyst</td>\n",
       "      <td>Synergy Search</td>\n",
       "      <td>Nashville (Berry Hill) based company looking t...</td>\n",
       "      <td>hybrid</td>\n",
       "      <td>$85,000.00_x000D_\\n            -_x000D_\\n     ...</td>\n",
       "      <td>Nashville Metropolitan Area</td>\n",
       "      <td>[{'Seniority level': 'Not Applicable'}, {'Empl...</td>\n",
       "      <td>2022-11-14 00:00:00</td>\n",
       "    </tr>\n",
       "    <tr>\n",
       "      <th>2845</th>\n",
       "      <td>Data Analyst</td>\n",
       "      <td>Insight Global</td>\n",
       "      <td>Overview - Minimum 5 years in a quantitative d...</td>\n",
       "      <td>hybrid</td>\n",
       "      <td>$130,000.00_x000D_\\n            -_x000D_\\n    ...</td>\n",
       "      <td>Burbank, CA</td>\n",
       "      <td>[{'Seniority level': 'Mid-Senior level'}, {'Em...</td>\n",
       "      <td>2022-11-14 00:00:00</td>\n",
       "    </tr>\n",
       "  </tbody>\n",
       "</table>\n",
       "<p>2845 rows × 8 columns</p>\n",
       "</div>"
      ],
      "text/plain": [
       "                               title                   company  \\\n",
       "1     Data Analyst - Recent Graduate                    PayPal   \n",
       "2     Data Analyst - Recent Graduate                    PayPal   \n",
       "3                       Data Analyst                    PayPal   \n",
       "4                       Data Analyst                    PayPal   \n",
       "5           Entry-Level Data Analyst  The Federal Savings Bank   \n",
       "...                              ...                       ...   \n",
       "2841             Junior Data Analyst        Iris Software Inc.   \n",
       "2842              Data Analyst (SQL)             Marwood Group   \n",
       "2843                    Data Analyst        SmartSense by Digi   \n",
       "2844                    Data Analyst            Synergy Search   \n",
       "2845                    Data Analyst            Insight Global   \n",
       "\n",
       "                                            description    mode  \\\n",
       "1     At PayPal (NASDAQ: PYPL), we believe that ever...  onsite   \n",
       "2     At PayPal (NASDAQ: PYPL), we believe that ever...  onsite   \n",
       "3     At PayPal (NASDAQ: PYPL), we believe that ever...  onsite   \n",
       "4     At PayPal (NASDAQ: PYPL), we believe that ever...  onsite   \n",
       "5     The Federal Savings Bank, a national bank and ...  onsite   \n",
       "...                                                 ...     ...   \n",
       "2841  Iris's client, one of the world's largest fina...  hybrid   \n",
       "2842  The Marwood Group (Marwood) is a leading healt...  hybrid   \n",
       "2843  Join a high-performing, tight-knit team at a f...  hybrid   \n",
       "2844  Nashville (Berry Hill) based company looking t...  hybrid   \n",
       "2845  Overview - Minimum 5 years in a quantitative d...  hybrid   \n",
       "\n",
       "                                                 salary  \\\n",
       "1                                                   NaN   \n",
       "2                                                   NaN   \n",
       "3                                                   NaN   \n",
       "4                                                   NaN   \n",
       "5                                                   NaN   \n",
       "...                                                 ...   \n",
       "2841                                                NaN   \n",
       "2842  $75,000.00_x000D_\\n            -_x000D_\\n     ...   \n",
       "2843                                                NaN   \n",
       "2844  $85,000.00_x000D_\\n            -_x000D_\\n     ...   \n",
       "2845  $130,000.00_x000D_\\n            -_x000D_\\n    ...   \n",
       "\n",
       "                             location  \\\n",
       "1          Buffalo-Niagara Falls Area   \n",
       "2                        San Jose, CA   \n",
       "3                Texas, United States   \n",
       "4             Illinois, United States   \n",
       "5                         Chicago, IL   \n",
       "...                               ...   \n",
       "2841             Texas, United States   \n",
       "2842  New York City Metropolitan Area   \n",
       "2843                    Mishawaka, IN   \n",
       "2844      Nashville Metropolitan Area   \n",
       "2845                      Burbank, CA   \n",
       "\n",
       "                                               criteria          posted_date  \n",
       "1     [{'Seniority level': 'Not Applicable'}, {'Empl...  2022-11-22 00:00:00  \n",
       "2     [{'Seniority level': 'Not Applicable'}, {'Empl...  2022-11-22 00:00:00  \n",
       "3     [{'Seniority level': 'Not Applicable'}, {'Empl...  2022-11-17 00:00:00  \n",
       "4     [{'Seniority level': 'Not Applicable'}, {'Empl...  2022-11-17 00:00:00  \n",
       "5     [{'Seniority level': 'Entry level'}, {'Employm...  2022-11-17 00:00:00  \n",
       "...                                                 ...                  ...  \n",
       "2841  [{'Seniority level': 'Mid-Senior level'}, {'Em...  2022-10-21 00:00:00  \n",
       "2842  [{'Seniority level': 'Mid-Senior level'}, {'Em...  2022-10-26 00:00:00  \n",
       "2843  [{'Seniority level': 'Associate'}, {'Employmen...  2022-11-17 00:00:00  \n",
       "2844  [{'Seniority level': 'Not Applicable'}, {'Empl...  2022-11-14 00:00:00  \n",
       "2845  [{'Seniority level': 'Mid-Senior level'}, {'Em...  2022-11-14 00:00:00  \n",
       "\n",
       "[2845 rows x 8 columns]"
      ]
     },
     "execution_count": 6,
     "metadata": {},
     "output_type": "execute_result"
    }
   ],
   "source": [
    "data"
   ]
  },
  {
   "cell_type": "markdown",
   "id": "dbfa45ce",
   "metadata": {},
   "source": [
    "### Salary cleaning"
   ]
  },
  {
   "cell_type": "markdown",
   "id": "fb3f3ef7",
   "metadata": {},
   "source": [
    "#### Messy salary"
   ]
  },
  {
   "cell_type": "markdown",
   "id": "8659c460",
   "metadata": {},
   "source": [
    "To address the first issue of messy salary data surrounded by unwanted characters, we cleaned the values by removing commas, dollar signs, and other extraneous characters. We retained only the numeric digits using regular expressions. The cleaned salary values were then added as a new column called \"salaries\" in the dataframe. This process allowed us to extract and include the relevant salary information for further analysis and visualization."
   ]
  },
  {
   "cell_type": "code",
   "execution_count": 56,
   "id": "df96ff5d",
   "metadata": {},
   "outputs": [],
   "source": [
    "import numpy as np\n",
    "import re\n",
    "salaries_da = []\n",
    "for salary in data['salary']:\n",
    "    if isinstance(salary, str) and '$' in salary:\n",
    "        salary_cleaned = salary.replace(',', '').replace('$', '').split()[0].strip('_x000D')\n",
    "        salary_cleaned = re.sub('[^0-9]','', salary_cleaned) \n",
    "        if salary_cleaned:\n",
    "            salaries_da.append(int(salary_cleaned))\n",
    "        else:\n",
    "            salaries_da.append(np.nan)\n",
    "    else:\n",
    "        salaries_da.append(np.nan)\n",
    "\n",
    "\n",
    "data.loc[:, 'salaries'] = salaries_da"
   ]
  },
  {
   "cell_type": "code",
   "execution_count": 57,
   "id": "03807d28",
   "metadata": {},
   "outputs": [],
   "source": [
    "data = data.drop('salary', axis=1)"
   ]
  },
  {
   "cell_type": "code",
   "execution_count": 58,
   "id": "1d5ea4c5",
   "metadata": {},
   "outputs": [],
   "source": [
    "data['salaries'] = data['salaries'].fillna('')"
   ]
  },
  {
   "cell_type": "code",
   "execution_count": 59,
   "id": "8c6be85b",
   "metadata": {},
   "outputs": [
    {
     "data": {
      "text/plain": [
       "1               \n",
       "2               \n",
       "3               \n",
       "4               \n",
       "5               \n",
       "          ...   \n",
       "2841            \n",
       "2842     75000.0\n",
       "2843            \n",
       "2844     85000.0\n",
       "2845    130000.0\n",
       "Name: salaries, Length: 2845, dtype: object"
      ]
     },
     "execution_count": 59,
     "metadata": {},
     "output_type": "execute_result"
    }
   ],
   "source": [
    "data['salaries']"
   ]
  },
  {
   "cell_type": "markdown",
   "id": "0b1303be",
   "metadata": {},
   "source": [
    "#### Mixed salary problem"
   ]
  },
  {
   "cell_type": "markdown",
   "id": "df08cb01",
   "metadata": {},
   "source": [
    "We encountered an other issue with the salary data as it contained multiple types of salaries (hourly, monthly, etc.) within the same column."
   ]
  },
  {
   "cell_type": "code",
   "execution_count": 60,
   "id": "8787284b",
   "metadata": {
    "scrolled": true
   },
   "outputs": [
    {
     "data": {
      "image/png": "[encoded data removed]",
      "text/plain": [
       "<Figure size 640x480 with 1 Axes>"
      ]
     },
     "metadata": {},
     "output_type": "display_data"
    }
   ],
   "source": [
    "import matplotlib.pyplot as plt\n",
    "\n",
    "df = pd.DataFrame(data)\n",
    "\n",
    "df['salaries'] = pd.to_numeric(df['salaries'], errors='coerce')\n",
    "\n",
    "salaries_cleaned = df['salaries'].dropna()\n",
    "\n",
    "\n",
    "plt.hist(salaries_cleaned, bins=10)\n",
    "plt.xlabel('Salaries')\n",
    "plt.ylabel('Frequency')\n",
    "plt.title('Distribution of Salaries')\n",
    "plt.show()\n"
   ]
  },
  {
   "cell_type": "markdown",
   "id": "6186f6ac",
   "metadata": {},
   "source": [
    "We addressed this challenge of mixed salary data (monthly, annual, and hourly rates) by separating each type into its own column. Additionally, we converted the data to numeric format for easier analysis in the dashboard. This transformation allows for clearer and more effective exploration of salary information based on different time frames (annual, monthly, and hourly)."
   ]
  },
  {
   "cell_type": "code",
   "execution_count": 13,
   "id": "8e5e7f41",
   "metadata": {},
   "outputs": [
    {
     "data": {
      "text/html": [
       "<div>\n",
       "<style scoped>\n",
       "    .dataframe tbody tr th:only-of-type {\n",
       "        vertical-align: middle;\n",
       "    }\n",
       "\n",
       "    .dataframe tbody tr th {\n",
       "        vertical-align: top;\n",
       "    }\n",
       "\n",
       "    .dataframe thead th {\n",
       "        text-align: right;\n",
       "    }\n",
       "</style>\n",
       "<table border=\"1\" class=\"dataframe\">\n",
       "  <thead>\n",
       "    <tr style=\"text-align: right;\">\n",
       "      <th></th>\n",
       "      <th>Annual_Salary</th>\n",
       "      <th>Hourly_Salary</th>\n",
       "      <th>Monthly_Salary</th>\n",
       "    </tr>\n",
       "  </thead>\n",
       "  <tbody>\n",
       "    <tr>\n",
       "      <th>1</th>\n",
       "      <td>NaN</td>\n",
       "      <td>NaN</td>\n",
       "      <td>NaN</td>\n",
       "    </tr>\n",
       "    <tr>\n",
       "      <th>2</th>\n",
       "      <td>NaN</td>\n",
       "      <td>NaN</td>\n",
       "      <td>NaN</td>\n",
       "    </tr>\n",
       "    <tr>\n",
       "      <th>3</th>\n",
       "      <td>NaN</td>\n",
       "      <td>NaN</td>\n",
       "      <td>NaN</td>\n",
       "    </tr>\n",
       "    <tr>\n",
       "      <th>4</th>\n",
       "      <td>NaN</td>\n",
       "      <td>NaN</td>\n",
       "      <td>NaN</td>\n",
       "    </tr>\n",
       "    <tr>\n",
       "      <th>5</th>\n",
       "      <td>NaN</td>\n",
       "      <td>NaN</td>\n",
       "      <td>NaN</td>\n",
       "    </tr>\n",
       "    <tr>\n",
       "      <th>...</th>\n",
       "      <td>...</td>\n",
       "      <td>...</td>\n",
       "      <td>...</td>\n",
       "    </tr>\n",
       "    <tr>\n",
       "      <th>2841</th>\n",
       "      <td>NaN</td>\n",
       "      <td>NaN</td>\n",
       "      <td>NaN</td>\n",
       "    </tr>\n",
       "    <tr>\n",
       "      <th>2842</th>\n",
       "      <td>75000.0</td>\n",
       "      <td>NaN</td>\n",
       "      <td>NaN</td>\n",
       "    </tr>\n",
       "    <tr>\n",
       "      <th>2843</th>\n",
       "      <td>NaN</td>\n",
       "      <td>NaN</td>\n",
       "      <td>NaN</td>\n",
       "    </tr>\n",
       "    <tr>\n",
       "      <th>2844</th>\n",
       "      <td>85000.0</td>\n",
       "      <td>NaN</td>\n",
       "      <td>NaN</td>\n",
       "    </tr>\n",
       "    <tr>\n",
       "      <th>2845</th>\n",
       "      <td>130000.0</td>\n",
       "      <td>NaN</td>\n",
       "      <td>NaN</td>\n",
       "    </tr>\n",
       "  </tbody>\n",
       "</table>\n",
       "<p>2845 rows × 3 columns</p>\n",
       "</div>"
      ],
      "text/plain": [
       "      Annual_Salary  Hourly_Salary  Monthly_Salary\n",
       "1               NaN            NaN             NaN\n",
       "2               NaN            NaN             NaN\n",
       "3               NaN            NaN             NaN\n",
       "4               NaN            NaN             NaN\n",
       "5               NaN            NaN             NaN\n",
       "...             ...            ...             ...\n",
       "2841            NaN            NaN             NaN\n",
       "2842        75000.0            NaN             NaN\n",
       "2843            NaN            NaN             NaN\n",
       "2844        85000.0            NaN             NaN\n",
       "2845       130000.0            NaN             NaN\n",
       "\n",
       "[2845 rows x 3 columns]"
      ]
     },
     "execution_count": 13,
     "metadata": {},
     "output_type": "execute_result"
    }
   ],
   "source": [
    "import pandas as pd\n",
    "\n",
    "\n",
    "def classify_salary(row):\n",
    "    salaire = row['salaries']\n",
    "    if pd.isnull(salaire):\n",
    "        return pd.Series({'Annual_Salary': None, 'Hourly_Salary': None, 'Monthly_Salary': None})\n",
    "    elif salaire >= 10000:\n",
    "        return pd.Series({'Annual_Salary': salaire, 'Hourly_Salary': None, 'Monthly_Salary': None})\n",
    "    elif salaire < 100:\n",
    "        return pd.Series({'Annual_Salary': None, 'Hourly_Salary': salaire, 'Monthly_Salary': None})\n",
    "    else:\n",
    "        return pd.Series({'Annual_Salary': None, 'Hourly_Salary': None, 'Monthly_Salary': salaire})\n",
    "\n",
    "\n",
    "df[['Annual_Salary', 'Hourly_Salary', 'Monthly_Salary']] = df.apply(classify_salary, axis=1)\n",
    "\n",
    "df.iloc[:,8:]\n"
   ]
  },
  {
   "cell_type": "code",
   "execution_count": 14,
   "id": "61b8d705",
   "metadata": {},
   "outputs": [
    {
     "data": {
      "text/html": [
       "<div>\n",
       "<style scoped>\n",
       "    .dataframe tbody tr th:only-of-type {\n",
       "        vertical-align: middle;\n",
       "    }\n",
       "\n",
       "    .dataframe tbody tr th {\n",
       "        vertical-align: top;\n",
       "    }\n",
       "\n",
       "    .dataframe thead th {\n",
       "        text-align: right;\n",
       "    }\n",
       "</style>\n",
       "<table border=\"1\" class=\"dataframe\">\n",
       "  <thead>\n",
       "    <tr style=\"text-align: right;\">\n",
       "      <th></th>\n",
       "      <th>salaries</th>\n",
       "      <th>Annual_Salary</th>\n",
       "      <th>Hourly_Salary</th>\n",
       "      <th>Monthly_Salary</th>\n",
       "    </tr>\n",
       "  </thead>\n",
       "  <tbody>\n",
       "    <tr>\n",
       "      <th>count</th>\n",
       "      <td>929.000000</td>\n",
       "      <td>498.000000</td>\n",
       "      <td>374.000000</td>\n",
       "      <td>57.000000</td>\n",
       "    </tr>\n",
       "    <tr>\n",
       "      <th>mean</th>\n",
       "      <td>48178.651238</td>\n",
       "      <td>89169.196787</td>\n",
       "      <td>40.168449</td>\n",
       "      <td>5906.736842</td>\n",
       "    </tr>\n",
       "    <tr>\n",
       "      <th>std</th>\n",
       "      <td>47111.732727</td>\n",
       "      <td>22625.837194</td>\n",
       "      <td>11.029863</td>\n",
       "      <td>82.246261</td>\n",
       "    </tr>\n",
       "    <tr>\n",
       "      <th>min</th>\n",
       "      <td>22.000000</td>\n",
       "      <td>50000.000000</td>\n",
       "      <td>22.000000</td>\n",
       "      <td>5800.000000</td>\n",
       "    </tr>\n",
       "    <tr>\n",
       "      <th>25%</th>\n",
       "      <td>40.000000</td>\n",
       "      <td>73036.000000</td>\n",
       "      <td>30.000000</td>\n",
       "      <td>5800.000000</td>\n",
       "    </tr>\n",
       "    <tr>\n",
       "      <th>50%</th>\n",
       "      <td>60000.000000</td>\n",
       "      <td>80000.000000</td>\n",
       "      <td>40.000000</td>\n",
       "      <td>5969.000000</td>\n",
       "    </tr>\n",
       "    <tr>\n",
       "      <th>75%</th>\n",
       "      <td>85000.000000</td>\n",
       "      <td>100000.000000</td>\n",
       "      <td>50.000000</td>\n",
       "      <td>5969.000000</td>\n",
       "    </tr>\n",
       "    <tr>\n",
       "      <th>max</th>\n",
       "      <td>130000.000000</td>\n",
       "      <td>130000.000000</td>\n",
       "      <td>68.000000</td>\n",
       "      <td>5969.000000</td>\n",
       "    </tr>\n",
       "  </tbody>\n",
       "</table>\n",
       "</div>"
      ],
      "text/plain": [
       "            salaries  Annual_Salary  Hourly_Salary  Monthly_Salary\n",
       "count     929.000000     498.000000     374.000000       57.000000\n",
       "mean    48178.651238   89169.196787      40.168449     5906.736842\n",
       "std     47111.732727   22625.837194      11.029863       82.246261\n",
       "min        22.000000   50000.000000      22.000000     5800.000000\n",
       "25%        40.000000   73036.000000      30.000000     5800.000000\n",
       "50%     60000.000000   80000.000000      40.000000     5969.000000\n",
       "75%     85000.000000  100000.000000      50.000000     5969.000000\n",
       "max    130000.000000  130000.000000      68.000000     5969.000000"
      ]
     },
     "execution_count": 14,
     "metadata": {},
     "output_type": "execute_result"
    }
   ],
   "source": [
    "df.describe()"
   ]
  },
  {
   "cell_type": "markdown",
   "id": "087c3448",
   "metadata": {},
   "source": [
    "We used the describe() function to check the data consistency and identify outliers in each salary category. This allowed us to validate the data and detect any unusual values that may require additional investigation."
   ]
  },
  {
   "cell_type": "markdown",
   "id": "141e046f",
   "metadata": {},
   "source": [
    "### Criteria extraction"
   ]
  },
  {
   "cell_type": "code",
   "execution_count": 15,
   "id": "d857eb00",
   "metadata": {},
   "outputs": [
    {
     "data": {
      "text/plain": [
       "\"[{'Seniority level': 'Not Applicable'}, {'Employment type': 'Full-time'}, {'Job function': 'Information Technology'}, {'Industries': 'Software Development, Technology, Information and Internet, and Financial Services'}]\""
      ]
     },
     "execution_count": 15,
     "metadata": {},
     "output_type": "execute_result"
    }
   ],
   "source": [
    "df[\"criteria\"][1]"
   ]
  },
  {
   "cell_type": "markdown",
   "id": "0580af60",
   "metadata": {},
   "source": [
    "As we can see, the 'criteria' column contained a list of dictionaries, where each dictionary represented a specific criterion related to job postings. Our goal was to extract the information from these dictionaries and transform them into separate columns.\n",
    "\n",
    "We wrote a code that parsed each dictionary within the 'criteria' column and extracted the values associated with the respective keys. These values were then assigned to new columns, such as 'Seniority Level', 'Employment Type', 'Job Function', and 'Industries'. By doing so, we transformed the nested structure of the 'criteria' column into a more structured tabular format.\n",
    "\n",
    "We performed this data transformation for several reasons. Firstly, by extracting the criteria into separate columns, we improved the accessibility and ease of analysis of the dataset. Each criterion now has its dedicated column, allowing for straightforward filtering, sorting, and aggregating based on specific criteria.\n",
    "\n",
    "Secondly, this transformation enables more meaningful and granular analysis of the job postings. With the criteria separated into individual columns, we can easily examine patterns, distributions, and relationships within each criterion. This provides valuable insights into the characteristics of the job postings and allows for a more comprehensive understanding of the dataset."
   ]
  },
  {
   "cell_type": "code",
   "execution_count": 16,
   "id": "9c189e4b",
   "metadata": {},
   "outputs": [],
   "source": [
    "S\n",
    "\n",
    "df = df.join(df.apply(extract_values, axis=1))\n",
    "\n",
    "\n",
    "df = df.drop('criteria', axis=1)"
   ]
  },
  {
   "cell_type": "code",
   "execution_count": 17,
   "id": "351f4d28",
   "metadata": {},
   "outputs": [
    {
     "data": {
      "text/html": [
       "<div>\n",
       "<style scoped>\n",
       "    .dataframe tbody tr th:only-of-type {\n",
       "        vertical-align: middle;\n",
       "    }\n",
       "\n",
       "    .dataframe tbody tr th {\n",
       "        vertical-align: top;\n",
       "    }\n",
       "\n",
       "    .dataframe thead th {\n",
       "        text-align: right;\n",
       "    }\n",
       "</style>\n",
       "<table border=\"1\" class=\"dataframe\">\n",
       "  <thead>\n",
       "    <tr style=\"text-align: right;\">\n",
       "      <th></th>\n",
       "      <th>Employment type</th>\n",
       "      <th>Industries</th>\n",
       "      <th>Job function</th>\n",
       "      <th>Seniority level</th>\n",
       "    </tr>\n",
       "  </thead>\n",
       "  <tbody>\n",
       "    <tr>\n",
       "      <th>1</th>\n",
       "      <td>Full-time</td>\n",
       "      <td>Software Development, Technology, Information ...</td>\n",
       "      <td>Information Technology</td>\n",
       "      <td>Not Applicable</td>\n",
       "    </tr>\n",
       "    <tr>\n",
       "      <th>2</th>\n",
       "      <td>Full-time</td>\n",
       "      <td>Software Development, Technology, Information ...</td>\n",
       "      <td>Information Technology</td>\n",
       "      <td>Not Applicable</td>\n",
       "    </tr>\n",
       "    <tr>\n",
       "      <th>3</th>\n",
       "      <td>Full-time</td>\n",
       "      <td>Software Development, Technology, Information ...</td>\n",
       "      <td>Information Technology</td>\n",
       "      <td>Not Applicable</td>\n",
       "    </tr>\n",
       "    <tr>\n",
       "      <th>4</th>\n",
       "      <td>Full-time</td>\n",
       "      <td>Software Development, Technology, Information ...</td>\n",
       "      <td>Information Technology</td>\n",
       "      <td>Not Applicable</td>\n",
       "    </tr>\n",
       "    <tr>\n",
       "      <th>5</th>\n",
       "      <td>Full-time</td>\n",
       "      <td>Savings Institutions</td>\n",
       "      <td>Information Technology</td>\n",
       "      <td>Entry level</td>\n",
       "    </tr>\n",
       "    <tr>\n",
       "      <th>...</th>\n",
       "      <td>...</td>\n",
       "      <td>...</td>\n",
       "      <td>...</td>\n",
       "      <td>...</td>\n",
       "    </tr>\n",
       "    <tr>\n",
       "      <th>2841</th>\n",
       "      <td>Contract</td>\n",
       "      <td>IT Services and IT Consulting</td>\n",
       "      <td>Information Technology</td>\n",
       "      <td>Mid-Senior level</td>\n",
       "    </tr>\n",
       "    <tr>\n",
       "      <th>2842</th>\n",
       "      <td>Full-time</td>\n",
       "      <td>Financial Services</td>\n",
       "      <td>Consulting, General Business, and Strategy/Pla...</td>\n",
       "      <td>Mid-Senior level</td>\n",
       "    </tr>\n",
       "    <tr>\n",
       "      <th>2843</th>\n",
       "      <td>Full-time</td>\n",
       "      <td>IT Services and IT Consulting, Software Develo...</td>\n",
       "      <td>Engineering</td>\n",
       "      <td>Associate</td>\n",
       "    </tr>\n",
       "    <tr>\n",
       "      <th>2844</th>\n",
       "      <td>Full-time</td>\n",
       "      <td>Entertainment Providers</td>\n",
       "      <td>Analyst and Finance</td>\n",
       "      <td>Not Applicable</td>\n",
       "    </tr>\n",
       "    <tr>\n",
       "      <th>2845</th>\n",
       "      <td>Full-time</td>\n",
       "      <td>Entertainment Providers and Hospitals and Heal...</td>\n",
       "      <td>Information Technology</td>\n",
       "      <td>Mid-Senior level</td>\n",
       "    </tr>\n",
       "  </tbody>\n",
       "</table>\n",
       "<p>2845 rows × 4 columns</p>\n",
       "</div>"
      ],
      "text/plain": [
       "     Employment type                                         Industries  \\\n",
       "1          Full-time  Software Development, Technology, Information ...   \n",
       "2          Full-time  Software Development, Technology, Information ...   \n",
       "3          Full-time  Software Development, Technology, Information ...   \n",
       "4          Full-time  Software Development, Technology, Information ...   \n",
       "5          Full-time                               Savings Institutions   \n",
       "...              ...                                                ...   \n",
       "2841        Contract                      IT Services and IT Consulting   \n",
       "2842       Full-time                                 Financial Services   \n",
       "2843       Full-time  IT Services and IT Consulting, Software Develo...   \n",
       "2844       Full-time                            Entertainment Providers   \n",
       "2845       Full-time  Entertainment Providers and Hospitals and Heal...   \n",
       "\n",
       "                                           Job function   Seniority level  \n",
       "1                                Information Technology    Not Applicable  \n",
       "2                                Information Technology    Not Applicable  \n",
       "3                                Information Technology    Not Applicable  \n",
       "4                                Information Technology    Not Applicable  \n",
       "5                                Information Technology       Entry level  \n",
       "...                                                 ...               ...  \n",
       "2841                             Information Technology  Mid-Senior level  \n",
       "2842  Consulting, General Business, and Strategy/Pla...  Mid-Senior level  \n",
       "2843                                        Engineering         Associate  \n",
       "2844                                Analyst and Finance    Not Applicable  \n",
       "2845                             Information Technology  Mid-Senior level  \n",
       "\n",
       "[2845 rows x 4 columns]"
      ]
     },
     "execution_count": 17,
     "metadata": {},
     "output_type": "execute_result"
    }
   ],
   "source": [
    "df.iloc[:,10:]"
   ]
  },
  {
   "cell_type": "markdown",
   "id": "ef95d1eb",
   "metadata": {},
   "source": [
    "Now, it looks much better and will greatly facilitate our analysis."
   ]
  },
  {
   "cell_type": "code",
   "execution_count": 18,
   "id": "c9339a91",
   "metadata": {},
   "outputs": [
    {
     "data": {
      "text/plain": [
       "192"
      ]
     },
     "execution_count": 18,
     "metadata": {},
     "output_type": "execute_result"
    }
   ],
   "source": [
    "df['Seniority level'].isna().sum()"
   ]
  },
  {
   "cell_type": "markdown",
   "id": "4ffdf470",
   "metadata": {},
   "source": [
    "We will assign \"Not applicable\" to the blank values in the Seniority level column."
   ]
  },
  {
   "cell_type": "code",
   "execution_count": 19,
   "id": "9dd5c5d7",
   "metadata": {},
   "outputs": [],
   "source": [
    "df['Seniority level'] = df['Seniority level'].fillna('Not Applicable')\n"
   ]
  },
  {
   "cell_type": "code",
   "execution_count": 20,
   "id": "d08f25a2",
   "metadata": {
    "scrolled": true
   },
   "outputs": [
    {
     "data": {
      "text/plain": [
       "0"
      ]
     },
     "execution_count": 20,
     "metadata": {},
     "output_type": "execute_result"
    }
   ],
   "source": [
    "df['Seniority level'].isna().sum()"
   ]
  },
  {
   "cell_type": "markdown",
   "id": "6dba0fcc",
   "metadata": {},
   "source": [
    "To address the issue of missing values in the three columns (\"Employment type\", \"Industries\", and \"Job function\"), we have utilized a similar approach as mentioned earlier to replace empty spaces with \"Not specified\". This was done to ensure that we avoid null or empty values in the dataset. By replacing empty spaces with \"Not specified\", we are able to provide a consistent and meaningful representation for missing values in these columns."
   ]
  },
  {
   "cell_type": "code",
   "execution_count": 21,
   "id": "23e9a7b4",
   "metadata": {},
   "outputs": [
    {
     "data": {
      "text/plain": [
       "title                 0\n",
       "company               0\n",
       "description           0\n",
       "mode                  0\n",
       "location              0\n",
       "posted_date           0\n",
       "salaries           1916\n",
       "Annual_Salary      2347\n",
       "Hourly_Salary      2471\n",
       "Monthly_Salary     2788\n",
       "Employment type      46\n",
       "Industries          193\n",
       "Job function        192\n",
       "Seniority level       0\n",
       "dtype: int64"
      ]
     },
     "execution_count": 21,
     "metadata": {},
     "output_type": "execute_result"
    }
   ],
   "source": [
    "df.isna().sum()"
   ]
  },
  {
   "cell_type": "code",
   "execution_count": 23,
   "id": "81e48f9b",
   "metadata": {},
   "outputs": [
    {
     "name": "stdout",
     "output_type": "stream",
     "text": [
      "title                 0\n",
      "company               0\n",
      "description           0\n",
      "mode                  0\n",
      "location              0\n",
      "posted_date           0\n",
      "salaries           1916\n",
      "Annual_Salary      2347\n",
      "Hourly_Salary      2471\n",
      "Monthly_Salary     2788\n",
      "Employment type       0\n",
      "Industries            0\n",
      "Job function          0\n",
      "Seniority level       0\n",
      "dtype: int64\n"
     ]
    }
   ],
   "source": [
    "column_to_replace = [\"Employment type\", \"Industries\", \"Job function\"]\n",
    "df[column_to_replace] = df[column_to_replace].fillna(\"Not specified\")\n",
    "na_per_column = df.isna().sum()\n",
    "print(na_per_column)"
   ]
  },
  {
   "cell_type": "code",
   "execution_count": 24,
   "id": "78ff3a2b",
   "metadata": {},
   "outputs": [
    {
     "data": {
      "text/plain": [
       "array(['Full-time', 'Not specified', 'Contract', 'Temporary', 'Volunteer'],\n",
       "      dtype=object)"
      ]
     },
     "execution_count": 24,
     "metadata": {},
     "output_type": "execute_result"
    }
   ],
   "source": [
    "df[\"Employment type\"].unique()"
   ]
  },
  {
   "cell_type": "code",
   "execution_count": 25,
   "id": "99089b44",
   "metadata": {},
   "outputs": [
    {
     "data": {
      "text/plain": [
       "array(['Not Applicable', 'Entry level', 'Associate', 'Mid-Senior level',\n",
       "       'Executive'], dtype=object)"
      ]
     },
     "execution_count": 25,
     "metadata": {},
     "output_type": "execute_result"
    }
   ],
   "source": [
    "df[\"Seniority level\"].unique()"
   ]
  },
  {
   "cell_type": "code",
   "execution_count": 26,
   "id": "b270683c",
   "metadata": {
    "scrolled": true
   },
   "outputs": [
    {
     "data": {
      "text/plain": [
       "array(['Software Development, Technology, Information and Internet, and Financial Services',\n",
       "       'Savings Institutions', 'Hospitals and Health Care',\n",
       "       'Not specified', 'Government Administration',\n",
       "       'Transportation, Logistics, Supply Chain and Storage',\n",
       "       'Defense and Space Manufacturing',\n",
       "       'Technology, Information and Internet', 'Real Estate',\n",
       "       'Financial Services', 'Retail Apparel and Fashion',\n",
       "       'Retail Gasoline', 'Business Consulting and Services',\n",
       "       'Education Administration Programs',\n",
       "       'IT Services and IT Consulting', 'Advertising Services',\n",
       "       'Staffing and Recruiting',\n",
       "       'Appliances, Electrical, and Electronics Manufacturing, Nanotechnology Research, and Semiconductor Manufacturing',\n",
       "       'Software Development',\n",
       "       'Food and Beverage Services and Financial Services',\n",
       "       'Telecommunications',\n",
       "       'IT Services and IT Consulting and Musicians',\n",
       "       'IT Services and IT Consulting and Hospitals and Health Care',\n",
       "       'Retail Apparel and Fashion, Manufacturing, and Retail',\n",
       "       'Renewable Energy Semiconductor Manufacturing', 'Banking',\n",
       "       'IT Services and IT Consulting, Banking, and Financial Services',\n",
       "       'IT Services and IT Consulting and Software Development',\n",
       "       'Medical Equipment Manufacturing, Biotechnology Research, and Pharmaceutical Manufacturing',\n",
       "       'Advertising Services and Online Audio and Video Media',\n",
       "       'IT Services and IT Consulting, Software Development, and Hospitals and Health Care',\n",
       "       'Market Research',\n",
       "       'Advertising Services and Technology, Information and Internet',\n",
       "       'Higher Education',\n",
       "       'IT Services and IT Consulting, Advertising Services, and Software Development',\n",
       "       'Banking and Financial Services',\n",
       "       'IT Services and IT Consulting, Medical Equipment Manufacturing, and Pharmaceutical Manufacturing',\n",
       "       'Environmental Services', 'Utilities',\n",
       "       'IT Services and IT Consulting, Software Development, and Insurance',\n",
       "       'Computer and Network Security', 'Manufacturing',\n",
       "       'Investment Management', 'Retail', 'Insurance',\n",
       "       'Government Relations Services, Computer and Network Security, and Utilities',\n",
       "       'Construction', 'Information Services',\n",
       "       'IT Services and IT Consulting, Appliances, Electrical, and Electronics Manufacturing, and E-Learning Providers',\n",
       "       'Information Services, Government Relations Services, and Government Administration',\n",
       "       'IT Services and IT Consulting, Retail Apparel and Fashion, and Retail',\n",
       "       'IT Services and IT Consulting, Advertising Services, and Technology, Information and Internet',\n",
       "       'Insurance, Financial Services, and Accounting',\n",
       "       'IT Services and IT Consulting, Software Development, and Human Resources Services',\n",
       "       'IT Services and IT Consulting and Financial Services',\n",
       "       'IT Services and IT Consulting, Advertising Services, and Public Relations and Communications Services',\n",
       "       'Animation and Post-production',\n",
       "       'Insurance and Investment Management',\n",
       "       'Security and Investigations', 'Biotechnology Research',\n",
       "       'IT Services and IT Consulting and Motor Vehicle Manufacturing',\n",
       "       'Business Consulting and Services and Pharmaceutical Manufacturing',\n",
       "       'IT Services and IT Consulting, Software Development, and Computer Games',\n",
       "       'IT Services and IT Consulting, Software Development, and Wireless Services',\n",
       "       'Entertainment Providers and Hospitals and Health Care',\n",
       "       'Appliances, Electrical, and Electronics Manufacturing and Automation Machinery Manufacturing',\n",
       "       'Motor Vehicle Manufacturing',\n",
       "       'IT Services and IT Consulting, Information Services, and Food and Beverage Manufacturing',\n",
       "       'Non-profit Organizations and Research Services',\n",
       "       'Artists and Writers',\n",
       "       'Venture Capital and Private Equity Principals',\n",
       "       'IT Services and IT Consulting, Software Development, and Truck Transportation',\n",
       "       'IT Services and IT Consulting and Business Consulting and Services',\n",
       "       'Facilities Services', 'Oil and Gas',\n",
       "       'Aviation and Aerospace Component Manufacturing, Staffing and Recruiting, and Airlines and Aviation',\n",
       "       'IT Services and IT Consulting, Banking, and Investment Banking',\n",
       "       'Entertainment Providers'], dtype=object)"
      ]
     },
     "execution_count": 26,
     "metadata": {},
     "output_type": "execute_result"
    }
   ],
   "source": [
    "df[\"Industries\"].unique()"
   ]
  },
  {
   "cell_type": "markdown",
   "id": "44816949",
   "metadata": {},
   "source": [
    "Now, in the respective columns (\"Employment type\", \"Industries\", and \"Job function\"), we have either the available information or \"Not specified\" to indicate missing values. This ensures that all entries in these columns provide either a specific value or a clear indication of missing information."
   ]
  },
  {
   "cell_type": "markdown",
   "id": "fee1ec19",
   "metadata": {},
   "source": [
    "### Date Formatting"
   ]
  },
  {
   "cell_type": "code",
   "execution_count": 27,
   "id": "4aa6440c",
   "metadata": {},
   "outputs": [],
   "source": [
    "df['posted_date'] = pd.to_datetime(df['posted_date'])"
   ]
  },
  {
   "cell_type": "markdown",
   "id": "72d4caf2",
   "metadata": {},
   "source": [
    "Here, we are converting the \"posted_date\" column to a date format to avoid the need for future conversions."
   ]
  },
  {
   "cell_type": "markdown",
   "id": "6ae64e94",
   "metadata": {},
   "source": [
    "### Location Standardization"
   ]
  },
  {
   "cell_type": "markdown",
   "id": "257340c3",
   "metadata": {},
   "source": [
    "The goal here was to make modifications to the \"location\" column to enhance our analysis and visualization. Initially, the \"location\" column contained various formats, including city names, states, and country names. To streamline our analysis and create a geographical visualization, we decided to focus solely on cities.\n",
    "\n",
    "By extracting and isolating the city names from the \"location\" column, we were able to create a more specific and meaningful geographical representation. This allowed us to geographically map the data points and visualize job postings across different cities accurately.\n",
    "\n",
    "Narrowing down the location information to cities only, we aimed to provide clearer insights into the distribution and concentration of data analyst job opportunities in specific areas. This refinement facilitates better comprehension and interpretation of the data, supporting our overall goal of creating an informative and visually appealing dashboard."
   ]
  },
  {
   "cell_type": "code",
   "execution_count": 28,
   "id": "468cce3a",
   "metadata": {},
   "outputs": [],
   "source": [
    "import re\n",
    "\n",
    "def extract_city(location):\n",
    "    city = re.findall(r'[A-Za-z\\s]+', location)\n",
    "    if city:\n",
    "        return city[0].strip()\n",
    "    else:\n",
    "        return None\n",
    "\n",
    "df['city'] = df['location'].apply(extract_city)\n"
   ]
  },
  {
   "cell_type": "code",
   "execution_count": 29,
   "id": "1b8b4fcf",
   "metadata": {},
   "outputs": [],
   "source": [
    "df = df.drop(\"location\",axis=1)\n",
    "df = df.drop(\"salaries\",axis=1)"
   ]
  },
  {
   "cell_type": "markdown",
   "id": "9d6389b7",
   "metadata": {},
   "source": [
    "### Text Processing and Skill Extraction"
   ]
  },
  {
   "cell_type": "markdown",
   "id": "515fc38e",
   "metadata": {},
   "source": [
    "We created a new column called \"BI_tools_condition\" to indicate whether the job descriptions mention either \"Tableau\" or \"Power BI\" skills. A value of 1 in this column means that at least one of the tools is mentioned, while a value of 0 means neither tool is mentioned. We followed a similar process to create another column to check if SQL or Python skills are required in the job postings."
   ]
  },
  {
   "cell_type": "code",
   "execution_count": 30,
   "id": "85211da5",
   "metadata": {},
   "outputs": [],
   "source": [
    "def check_bi_tools(description):\n",
    "    if 'Tableau' in description or 'Power BI' in description:\n",
    "        return 1\n",
    "    else:\n",
    "        return 0\n",
    "\n",
    "\n",
    "df['BI_tools_condition'] = df['description'].apply(check_bi_tools)\n"
   ]
  },
  {
   "cell_type": "code",
   "execution_count": 31,
   "id": "c5cd017d",
   "metadata": {},
   "outputs": [],
   "source": [
    "def check_coding(description):\n",
    "    if 'Python' in description or 'SQL' in description:\n",
    "        return 1\n",
    "    else:\n",
    "        return 0\n",
    "\n",
    "\n",
    "df['coding_condition'] = df['description'].apply(check_coding)"
   ]
  },
  {
   "cell_type": "code",
   "execution_count": 32,
   "id": "aeb11395",
   "metadata": {},
   "outputs": [
    {
     "data": {
      "text/html": [
       "<div>\n",
       "<style scoped>\n",
       "    .dataframe tbody tr th:only-of-type {\n",
       "        vertical-align: middle;\n",
       "    }\n",
       "\n",
       "    .dataframe tbody tr th {\n",
       "        vertical-align: top;\n",
       "    }\n",
       "\n",
       "    .dataframe thead th {\n",
       "        text-align: right;\n",
       "    }\n",
       "</style>\n",
       "<table border=\"1\" class=\"dataframe\">\n",
       "  <thead>\n",
       "    <tr style=\"text-align: right;\">\n",
       "      <th></th>\n",
       "      <th>BI_tools_condition</th>\n",
       "      <th>coding_condition</th>\n",
       "    </tr>\n",
       "  </thead>\n",
       "  <tbody>\n",
       "    <tr>\n",
       "      <th>1</th>\n",
       "      <td>1</td>\n",
       "      <td>1</td>\n",
       "    </tr>\n",
       "    <tr>\n",
       "      <th>2</th>\n",
       "      <td>1</td>\n",
       "      <td>1</td>\n",
       "    </tr>\n",
       "    <tr>\n",
       "      <th>3</th>\n",
       "      <td>0</td>\n",
       "      <td>1</td>\n",
       "    </tr>\n",
       "    <tr>\n",
       "      <th>4</th>\n",
       "      <td>0</td>\n",
       "      <td>1</td>\n",
       "    </tr>\n",
       "    <tr>\n",
       "      <th>5</th>\n",
       "      <td>1</td>\n",
       "      <td>1</td>\n",
       "    </tr>\n",
       "    <tr>\n",
       "      <th>...</th>\n",
       "      <td>...</td>\n",
       "      <td>...</td>\n",
       "    </tr>\n",
       "    <tr>\n",
       "      <th>2841</th>\n",
       "      <td>0</td>\n",
       "      <td>0</td>\n",
       "    </tr>\n",
       "    <tr>\n",
       "      <th>2842</th>\n",
       "      <td>0</td>\n",
       "      <td>1</td>\n",
       "    </tr>\n",
       "    <tr>\n",
       "      <th>2843</th>\n",
       "      <td>0</td>\n",
       "      <td>1</td>\n",
       "    </tr>\n",
       "    <tr>\n",
       "      <th>2844</th>\n",
       "      <td>1</td>\n",
       "      <td>1</td>\n",
       "    </tr>\n",
       "    <tr>\n",
       "      <th>2845</th>\n",
       "      <td>0</td>\n",
       "      <td>1</td>\n",
       "    </tr>\n",
       "  </tbody>\n",
       "</table>\n",
       "<p>2845 rows × 2 columns</p>\n",
       "</div>"
      ],
      "text/plain": [
       "      BI_tools_condition  coding_condition\n",
       "1                      1                 1\n",
       "2                      1                 1\n",
       "3                      0                 1\n",
       "4                      0                 1\n",
       "5                      1                 1\n",
       "...                  ...               ...\n",
       "2841                   0                 0\n",
       "2842                   0                 1\n",
       "2843                   0                 1\n",
       "2844                   1                 1\n",
       "2845                   0                 1\n",
       "\n",
       "[2845 rows x 2 columns]"
      ]
     },
     "execution_count": 32,
     "metadata": {},
     "output_type": "execute_result"
    }
   ],
   "source": [
    "df.iloc[:,13:]"
   ]
  },
  {
   "cell_type": "markdown",
   "id": "8de301bf",
   "metadata": {},
   "source": [
    "## Conclusion"
   ]
  },
  {
   "cell_type": "markdown",
   "id": "2f63085f",
   "metadata": {},
   "source": [
    "In summary, the data cleaning process has successfully prepared our dataset for further analysis and visualization. We have standardized the salary values, formatted the date column, standardized the location information, and extracted relevant information from the job descriptions. With the dataset cleaned and organized, we are now ready to proceed with exporting the data to Tableau for in-depth analysis and visualization.\n",
    "\n",
    "Additionally, we acknowledge the presence of missing values within the dataset. To ensure that we do not lose valuable data, we will handle these missing values during the visualization phase in Tableau. This approach will allow us to explore and analyze the data comprehensively, taking into account the missing values and their potential impact on the insights derived from the visualizations."
   ]
  }
 ],
 "metadata": {
  "kernelspec": {
   "display_name": "Python 3 (ipykernel)",
   "language": "python",
   "name": "python3"
  },
  "language_info": {
   "codemirror_mode": {
    "name": "ipython",
    "version": 3
   },
   "file_extension": ".py",
   "mimetype": "text/x-python",
   "name": "python",
   "nbconvert_exporter": "python",
   "pygments_lexer": "ipython3",
   "version": "3.11.2"
  }
 },
 "nbformat": 4,
 "nbformat_minor": 5
}
